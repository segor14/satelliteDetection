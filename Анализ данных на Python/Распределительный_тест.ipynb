{
 "cells": [
  {
   "cell_type": "markdown",
   "id": "02535b7b",
   "metadata": {},
   "source": [
    "# Задача 1"
   ]
  },
  {
   "cell_type": "code",
   "execution_count": null,
   "id": "53dedb12",
   "metadata": {},
   "outputs": [],
   "source": [
    "n = int(input())\n",
    "my_dict = {}\n",
    "for i in range(n):\n",
    "    info = input().split()\n",
    "    name = info[0]\n",
    "    number = int(info[1])\n",
    "    status = info[2]\n",
    "\n",
    "    if name not in my_dict:\n",
    "        mass = [number] if status == 'OK' else []\n",
    "        my_dict[name] = {'counter': 1, 'OK': mass}\n",
    "    else:\n",
    "        if status == 'OK':\n",
    "            my_dict[name]['OK'].append(number)\n",
    "        my_dict[name]['counter'] += 1\n",
    "\n",
    "for name in my_dict:\n",
    "    my_dict[name]['OK'] = len(set(my_dict[name]['OK']))\n",
    "\n",
    "for name, info in sorted(my_dict.items()):\n",
    "    print(f\"{name} {info['counter']} {info['OK']}\")"
   ]
  },
  {
   "cell_type": "markdown",
   "id": "ce850809",
   "metadata": {},
   "source": [
    "# Задача 2"
   ]
  },
  {
   "cell_type": "code",
   "execution_count": 53,
   "id": "24394495",
   "metadata": {},
   "outputs": [
    {
     "name": "stdout",
     "output_type": "stream",
     "text": [
      "True\n"
     ]
    }
   ],
   "source": [
    "word1 = input()\n",
    "word2 = input()\n",
    "\n",
    "def is_plagiat(word1: str, word2: str):\n",
    "    word1 = set(word1.lower())\n",
    "    word2 = set(word2.lower())\n",
    "\n",
    "    union = word2 - word1\n",
    "\n",
    "    if len(union) <= 1:\n",
    "        return True\n",
    "    else:\n",
    "        return False\n",
    "    \n",
    "print(is_plagiat(word1, word2))"
   ]
  }
 ],
 "metadata": {
  "kernelspec": {
   "display_name": "ai",
   "language": "python",
   "name": "python3"
  },
  "language_info": {
   "codemirror_mode": {
    "name": "ipython",
    "version": 3
   },
   "file_extension": ".py",
   "mimetype": "text/x-python",
   "name": "python",
   "nbconvert_exporter": "python",
   "pygments_lexer": "ipython3",
   "version": "3.10.18"
  }
 },
 "nbformat": 4,
 "nbformat_minor": 5
}
